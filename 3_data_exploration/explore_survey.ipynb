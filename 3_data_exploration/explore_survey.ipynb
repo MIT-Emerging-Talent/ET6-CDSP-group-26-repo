{
 "cells": [
  {
   "cell_type": "code",
   "execution_count": null,
   "id": "0",
   "metadata": {},
   "outputs": [],
   "source": [
    "import pandas as pd\n",
    "import matplotlib.pyplot as plt\n",
    "import seaborn as sns\n",
    "\n",
    "# Load survey data\n",
    "df = pd.read_csv(\"../2_data_preparation/survey_data/clean_survey_responses.csv\")\n",
    "# Rename columns for easier access (optional)\n",
    "df.columns = [col.strip().lower().replace(\" \", \"_\") for col in df.columns]\n"
   ]
  },
  {
   "cell_type": "code",
   "execution_count": null,
   "id": "1",
   "metadata": {},
   "outputs": [],
   "source": [
    "#What is the distribution of age groups in the dataset?\n",
    "sns.countplot(data=df, x=\"age\", palette=\"Set2\")\n",
    "plt.title(\"Age Group Distribution\")\n",
    "plt.xlabel(\"Age Group\")\n",
    "plt.ylabel(\"Count\")\n",
    "plt.tight_layout()\n",
    "plt.show()\n"
   ]
  },
  {
   "cell_type": "code",
   "execution_count": null,
   "id": "2",
   "metadata": {},
   "outputs": [],
   "source": [
    "# Countplot of age group vs. conflict zone experience\n",
    "plt.figure(figsize=(10, 6))\n",
    "sns.countplot(\n",
    "    data=df,\n",
    "    x=\"age\",\n",
    "    hue=\"have_you_ever_lived_in_or_near_a_conflict_zone?\",\n",
    "    palette=\"Set2\",\n",
    ")\n",
    "\n",
    "plt.title(\"Age Group vs. Conflict Zone Experience\")\n",
    "plt.xlabel(\"Age Group\")\n",
    "plt.ylabel(\"Number of Respondents\")\n",
    "plt.xticks(rotation=45)\n",
    "plt.legend(title=\"Conflict Zone Experience\")\n",
    "plt.tight_layout()\n",
    "plt.show()\n"
   ]
  },
  {
   "cell_type": "code",
   "execution_count": null,
   "id": "3",
   "metadata": {},
   "outputs": [],
   "source": [
    "# . How does desensitization type vary by age group?\n",
    "plt.figure(figsize=(10, 5))\n",
    "sns.countplot(data=df, x=\"age\", hue=\"desensitization_type\", palette=\"Set2\")\n",
    "plt.title(\"Desensitization Type by Age Group\")\n",
    "plt.xlabel(\"Age Group\")\n",
    "plt.ylabel(\"Count\")\n",
    "plt.legend(title=\"Desensitization Type\")\n",
    "plt.show()\n"
   ]
  },
  {
   "cell_type": "code",
   "execution_count": null,
   "id": "4",
   "metadata": {},
   "outputs": [],
   "source": [
    "\n",
    "\n",
    "plt.figure(figsize=(8, 5))\n",
    "sns.countplot(\n",
    "    data=df,\n",
    "    x=\"desensitization_type\",\n",
    "    order=df[\"desensitization_type\"].value_counts().index,\n",
    "    palette=\"Set2\",\n",
    ")\n",
    "plt.title(\"Distribution of Desensitization Types\")\n",
    "plt.xticks(rotation=20)\n",
    "plt.xlabel(\"Desensitization Type\")\n",
    "plt.ylabel(\"Number of Respondents\")\n",
    "plt.tight_layout()\n",
    "plt.show()\n"
   ]
  },
  {
   "cell_type": "code",
   "execution_count": null,
   "id": "5",
   "metadata": {},
   "outputs": [],
   "source": [
    "sns.countplot(data=df, x=\"which_platform_do_you_use_most_often?\", palette=\"Set1\")\n",
    "plt.title(\"Most Used Platforms\")\n",
    "plt.xlabel(\"Platform\")\n",
    "plt.ylabel(\"Number of Respondents\")\n",
    "plt.xticks(rotation=30)\n",
    "plt.tight_layout()\n",
    "plt.show()\n"
   ]
  },
  {
   "cell_type": "code",
   "execution_count": null,
   "id": "6",
   "metadata": {},
   "outputs": [],
   "source": [
    "#Which desensitization type dominates each platform?\n",
    "platform_cross = pd.crosstab(\n",
    "    df[\"which_platform_do_you_use_most_often?\"], df[\"desensitization_type\"]\n",
    ")\n",
    "platform_cross.plot(kind=\"bar\", stacked=True, figsize=(10, 6), colormap=\"Set2\")\n",
    "plt.title(\"Platform Use by Desensitization Type\")\n",
    "plt.xlabel(\"Platform\")\n",
    "plt.ylabel(\"Number of Respondents\")\n",
    "plt.xticks(rotation=30)\n",
    "plt.legend(title=\"Desensitization Type\")\n",
    "plt.tight_layout()\n",
    "plt.show()\n"
   ]
  },
  {
   "cell_type": "code",
   "execution_count": null,
   "id": "7",
   "metadata": {},
   "outputs": [],
   "source": [
    "#What types of violent content are most frequently seen?\n",
    "plt.figure(figsize=(12, 6))\n",
    "sns.countplot(\n",
    "    data=df,\n",
    "    y=\"what_kind_of_violent_content_do_you_most_often_see?\",\n",
    "    hue=\"desensitization_type\",\n",
    "    palette=\"Set2\",\n",
    ")\n",
    "plt.title(\"Type of Violent Content Seen by Desensitization Type\")\n",
    "plt.xlabel(\"Count\")\n",
    "plt.ylabel(\"Type of Content\")\n",
    "plt.legend(title=\"Desensitization Type\")\n",
    "plt.tight_layout()\n",
    "plt.show()\n"
   ]
  },
  {
   "cell_type": "code",
   "execution_count": null,
   "id": "8",
   "metadata": {},
   "outputs": [],
   "source": [
    "# Does living near conflict zones impact emotional response types?\n",
    "sns.countplot(\n",
    "    data=df,\n",
    "    x=\"have_you_ever_lived_in_or_near_a_conflict_zone?\",\n",
    "    hue=\"desensitization_type\",\n",
    "    palette=\"Set2\",\n",
    ")\n",
    "plt.title(\"Conflict Zone Experience vs Desensitization\")\n",
    "plt.xlabel(\"Conflict Zone Experience\")\n",
    "plt.ylabel(\"Count\")\n",
    "plt.tight_layout()\n",
    "plt.show()\n"
   ]
  },
  {
   "cell_type": "code",
   "execution_count": null,
   "id": "9",
   "metadata": {},
   "outputs": [],
   "source": [
    "# What is the average score distribution per desensitization type?\n",
    "print(\n",
    "    df.groupby(\"desensitization_type\")[\n",
    "        [\"emotional_score\", \"cognitive_score\", \"behavioral_score\"]\n",
    "    ]\n",
    "    .mean()\n",
    "    .round(2)\n",
    ")\n"
   ]
  },
  {
   "cell_type": "code",
   "execution_count": null,
   "id": "10",
   "metadata": {},
   "outputs": [],
   "source": [
    "# How does exposure frequency correlate with desensitization?\n",
    "sns.countplot(\n",
    "    data=df,\n",
    "    x=\"how_often_do_you_encounter_violent_or_graphic_content_online_(e.g.,_war_footage,_explosions,_shootings)?\",\n",
    "    hue=\"desensitization_type\",\n",
    "    palette=\"Set2\",\n",
    ")\n",
    "\n",
    "plt.title(\"Exposure Frequency vs Desensitization Type\")\n",
    "plt.xlabel(\"Exposure Frequency\")\n",
    "plt.ylabel(\"Count\")\n",
    "plt.xticks(rotation=20)\n",
    "plt.tight_layout()\n",
    "plt.show()\n"
   ]
  },
  {
   "cell_type": "code",
   "execution_count": null,
   "id": "11",
   "metadata": {},
   "outputs": [],
   "source": [
    "# How does behavioral score vary across age groups?\n",
    "sns.boxplot(data=df, x=\"age\", y=\"behavioral_score\", palette=\"Set2\")\n",
    "plt.title(\"Behavioral Score by Age\")\n",
    "plt.xlabel(\"Age Group\")\n",
    "plt.ylabel(\"Behavioral Score\")\n",
    "plt.tight_layout()\n",
    "plt.show()\n"
   ]
  },
  {
   "cell_type": "code",
   "execution_count": null,
   "id": "12",
   "metadata": {},
   "outputs": [],
   "source": [
    "#What is the relationship between emotional and behavioral scores across desensitization types?\n",
    "sns.lmplot(\n",
    "    data=df,\n",
    "    x=\"emotional_score\",\n",
    "    y=\"behavioral_score\",\n",
    "    hue=\"desensitization_type\",\n",
    "    aspect=1.5,\n",
    ")\n",
    "\n",
    "plt.title(\"Emotional vs Behavioral Score by Desensitization Type\")\n",
    "plt.tight_layout()\n",
    "plt.show()"
   ]
  }
 ],
 "metadata": {
  "kernelspec": {
   "display_name": "base",
   "language": "python",
   "name": "python3"
  },
  "language_info": {
   "codemirror_mode": {
    "name": "ipython",
    "version": 3
   },
   "file_extension": ".py",
   "mimetype": "text/x-python",
   "name": "python",
   "nbconvert_exporter": "python",
   "pygments_lexer": "ipython3",
   "version": "3.12.7"
  }
 },
 "nbformat": 4,
 "nbformat_minor": 5
}
