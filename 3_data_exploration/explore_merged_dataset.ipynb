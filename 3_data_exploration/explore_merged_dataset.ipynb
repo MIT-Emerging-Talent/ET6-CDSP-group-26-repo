{
 "cells": [
  {
   "cell_type": "code",
   "execution_count": null,
   "id": "0",
   "metadata": {},
   "outputs": [],
   "source": [
    "import pandas as pd\n",
    "import matplotlib.pyplot as plt\n",
    "import seaborn as sns\n",
    "\n",
    "dff = pd.read_csv(\"../2_data_preparation/merged_df.csv\")\n",
    "df = dff[dff[\"year\"] <= 2019]"
   ]
  },
  {
   "cell_type": "code",
   "execution_count": null,
   "id": "1",
   "metadata": {},
   "outputs": [],
   "source": [
    "print(df.columns.tolist())"
   ]
  },
  {
   "cell_type": "code",
   "execution_count": null,
   "id": "2",
   "metadata": {},
   "outputs": [],
   "source": [
    "print(df[\"participants_category\"].value_counts())"
   ]
  },
  {
   "cell_type": "code",
   "execution_count": null,
   "id": "3",
   "metadata": {},
   "outputs": [],
   "source": [
    "sns.countplot(\n",
    "    data=df,\n",
    "    x=\"participants_category\",\n",
    "    order=df[\"participants_category\"].value_counts().index,\n",
    ")\n",
    "plt.title(\"Protest Size Distribution\")\n",
    "plt.xlabel(\"Participants Category\")\n",
    "plt.ylabel(\"Number of Protests\")\n",
    "plt.tight_layout()\n",
    "plt.show()"
   ]
  },
  {
   "cell_type": "code",
   "execution_count": null,
   "id": "4",
   "metadata": {},
   "outputs": [],
   "source": [
    "fig, ax1 = plt.subplots(figsize=(12, 6))\n",
    "\n",
    "# Plot Violent Events\n",
    "ax1.plot(df.groupby(\"year\")[\"SumEvents\"].sum(), color=\"red\", label=\"Violent Events\")\n",
    "ax1.set_xlabel(\"Year\")\n",
    "ax1.set_ylabel(\"Violent Events\", color=\"red\")\n",
    "ax1.tick_params(axis=\"y\", labelcolor=\"red\")\n",
    "\n",
    "# Create twin axis for Protests\n",
    "ax2 = ax1.twinx()\n",
    "ax2.plot(df.groupby(\"year\")[\"protest\"].sum(), color=\"blue\", label=\"Protests\")\n",
    "ax2.set_ylabel(\"Protests\", color=\"blue\")\n",
    "ax2.tick_params(axis=\"y\", labelcolor=\"blue\")\n",
    "\n",
    "# Title and layout\n",
    "plt.title(\"Violent Events vs. Protests Over Time\")\n",
    "fig.tight_layout()\n",
    "plt.show()"
   ]
  },
  {
   "cell_type": "code",
   "execution_count": null,
   "id": "5",
   "metadata": {},
   "outputs": [],
   "source": [
    "size_trend = df.groupby([\"year\", \"participants_category\"]).size().unstack(fill_value=0)\n",
    "\n",
    "# Plot\n",
    "size_trend.plot(kind=\"bar\", stacked=True, figsize=(12, 6))\n",
    "plt.title(\"Protest Size Category Over Time\")\n",
    "plt.xlabel(\"Year\")\n",
    "plt.ylabel(\"Number of Protests\")\n",
    "plt.tight_layout()\n",
    "plt.show()"
   ]
  },
  {
   "cell_type": "code",
   "execution_count": null,
   "id": "6",
   "metadata": {},
   "outputs": [],
   "source": [
    "top_violent = (\n",
    "    df.groupby(\"country\")[\"SumEvents\"].sum().sort_values(ascending=False).head(10)\n",
    ")\n",
    "top_violent.plot(kind=\"bar\", title=\"Top 10 Most Violent Countries\")"
   ]
  },
  {
   "cell_type": "code",
   "execution_count": null,
   "id": "7",
   "metadata": {},
   "outputs": [],
   "source": [
    "top_protest = (\n",
    "    df.groupby(\"country\")[\"protest\"].sum().sort_values(ascending=False).head(10)\n",
    ")\n",
    "top_protest.plot(kind=\"bar\", title=\"Top 10 Countries by Protest Frequency\")\n",
    "plt.ylabel(\"Number of Protests\")\n",
    "plt.tight_layout()\n",
    "plt.show()"
   ]
  },
  {
   "cell_type": "code",
   "execution_count": null,
   "id": "8",
   "metadata": {},
   "outputs": [],
   "source": [
    "def simplify_demands(demand_str):\n",
    "    if pd.isna(demand_str):\n",
    "        return \"Other/Unknown\"\n",
    "\n",
    "    demand_str = demand_str.lower().strip()\n",
    "    demand_parts = [d.strip() for d in demand_str.split(\";\")]\n",
    "\n",
    "    categories = {\n",
    "        \"political behavior, process\": \"Political Behavior / Process\",\n",
    "        \"labor wage dispute\": \"Labor Wage Dispute\",\n",
    "        \"price increases, tax policy\": \"Price Increases / Tax\",\n",
    "        \"removal of politician\": \"Removal of Politician\",\n",
    "        \"police brutality\": \"Police Brutality\",\n",
    "        \"land farm issue\": \"Land/Farm Issue\",\n",
    "        \"social restrictions\": \"Social Restrictions\",\n",
    "    }\n",
    "\n",
    "    for part in demand_parts:\n",
    "        if part in categories:\n",
    "            return categories[part]\n",
    "\n",
    "    return demand_str.title()  # Keep as-is with formatting if not matched\n",
    "\n",
    "\n",
    "# Apply and plot\n",
    "df.loc[:, \"demand_category\"] = df[\"protesterdemand1\"].apply(simplify_demands)\n",
    "top_demands = df[\"demand_category\"].value_counts().head(10)\n",
    "\n",
    "top_demands.plot(kind=\"bar\", color=\"skyblue\", title=\"Top Protest Demands\")\n",
    "plt.xlabel(\"Demand Category\")\n",
    "plt.ylabel(\"Count\")\n",
    "plt.xticks(rotation=45, ha=\"right\")\n",
    "plt.tight_layout()\n",
    "plt.show()"
   ]
  },
  {
   "cell_type": "code",
   "execution_count": null,
   "id": "9",
   "metadata": {},
   "outputs": [],
   "source": [
    "def simplify_state_response(response_str):\n",
    "    if pd.isnull(response_str):\n",
    "        return []\n",
    "\n",
    "    categories = []\n",
    "    for r in response_str.split(\";\"):\n",
    "        r = r.strip().lower()\n",
    "        if \"arrest\" in r:\n",
    "            categories.append(\"Arrests\")\n",
    "        elif \"crowd\" in r:\n",
    "            categories.append(\"Crowd Dispersal\")\n",
    "        elif \"accom\" in r:\n",
    "            categories.append(\"Accommodation\")\n",
    "        elif \"ignore\" in r:\n",
    "            categories.append(\"Ignored\")\n",
    "        elif \"shoot\" in r:\n",
    "            categories.append(\"Shootings\")\n",
    "        elif \"beating\" in r:\n",
    "            categories.append(\"Beatings\")\n",
    "        elif \"kill\" in r:\n",
    "            categories.append(\"Killings\")\n",
    "        else:\n",
    "            categories.append(\"Other/Unknown\")\n",
    "    return categories\n",
    "\n",
    "\n",
    "# Apply to the full column and flatten the list of lists\n",
    "all_responses = df[\"stateresponse1\"].dropna().apply(simplify_state_response)\n",
    "flattened = [item for sublist in all_responses for item in sublist]\n",
    "\n",
    "# Count\n",
    "response_counts = pd.Series(flattened).value_counts().head(10)\n",
    "\n",
    "# Plot\n",
    "plt.figure(figsize=(10, 6))\n",
    "response_counts.plot(kind=\"bar\", color=\"orange\")\n",
    "plt.title(\"Top State Responses to Protests\")\n",
    "plt.ylabel(\"Count\")\n",
    "plt.xlabel(\"Response Type\")\n",
    "plt.xticks(rotation=45, ha=\"right\")\n",
    "plt.tight_layout()\n",
    "plt.show()"
   ]
  },
  {
   "cell_type": "code",
   "execution_count": null,
   "id": "10",
   "metadata": {},
   "outputs": [],
   "source": [
    "df_exploded = df.copy()\n",
    "df_exploded = df_exploded.dropna(subset=[\"EventRootDescr\"])\n",
    "\n",
    "# Split and explode\n",
    "df_exploded[\"EventRootDescr\"] = df_exploded[\"EventRootDescr\"].str.split(\";\")\n",
    "df_exploded = df_exploded.explode(\"EventRootDescr\")\n",
    "\n",
    "# Clean whitespaces and standardize\n",
    "df_exploded[\"EventRootDescr\"] = df_exploded[\"EventRootDescr\"].str.strip().str.upper()\n",
    "\n",
    "# Count and plot top 10 root-level event types\n",
    "event_counts = df_exploded[\"EventRootDescr\"].value_counts().head(10)\n",
    "\n",
    "plt.figure(figsize=(10, 6))\n",
    "event_counts.plot(kind=\"bar\", color=\"darkred\")\n",
    "plt.title(\"Top  Violent Event Types\")\n",
    "plt.ylabel(\"Count\")\n",
    "plt.xlabel(\"Event Root Category\")\n",
    "plt.xticks(rotation=45, ha=\"right\")\n",
    "plt.tight_layout()\n",
    "plt.show()"
   ]
  }
 ],
 "metadata": {
  "kernelspec": {
   "display_name": "base",
   "language": "python",
   "name": "python3"
  },
  "language_info": {
   "codemirror_mode": {
    "name": "ipython",
    "version": 3
   },
   "file_extension": ".py",
   "mimetype": "text/x-python",
   "name": "python",
   "nbconvert_exporter": "python",
   "pygments_lexer": "ipython3",
   "version": "3.12.7"
  }
 },
 "nbformat": 4,
 "nbformat_minor": 5
}
