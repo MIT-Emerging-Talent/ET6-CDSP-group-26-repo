{
 "cells": [
  {
   "cell_type": "code",
   "execution_count": 3,
   "id": "afaf46ef",
   "metadata": {},
   "outputs": [
    {
     "name": "stdout",
     "output_type": "stream",
     "text": [
      "✅ Done! Cleaned and enriched dataset saved as merged_df_with_descriptions.csv\n"
     ]
    }
   ],
   "source": [
    "import pandas as pd\n",
    "\n",
    "# Load raw datasets\n",
    "gdelt_df = pd.read_csv(\"../../1_datasets/gdelt_conflict_1_0_RAW.csv\")\n",
    "mm_df = pd.read_csv(\"../../1_datasets/The Mass Mobilization_RAW.csv\")\n",
    "\n",
    "# Clean and prepare GDELT\n",
    "gdelt_clean = gdelt_df[\n",
    "    [\n",
    "        \"CountryName\",\n",
    "        \"Year\",\n",
    "        \"SumEvents\",\n",
    "        \"GoldsteinScale\",\n",
    "        \"EventDescr\",\n",
    "        \"EventRootDescr\",\n",
    "    ]\n",
    "].dropna(subset=[\"CountryName\", \"Year\"])\n",
    "\n",
    "gdelt_clean = gdelt_clean.rename(columns={\"CountryName\": \"country\", \"Year\": \"year\"})\n",
    "gdelt_clean[\"country\"] = gdelt_clean[\"country\"].str.strip().str.lower()\n",
    "gdelt_clean[\"year\"] = gdelt_clean[\"year\"].astype(int)\n",
    "gdelt_clean = gdelt_clean.drop_duplicates()\n",
    "\n",
    "# Group GDELT data by country and year\n",
    "gdelt_grouped = (\n",
    "    gdelt_clean.groupby([\"country\", \"year\"])\n",
    "    .agg(\n",
    "        {\n",
    "            \"SumEvents\": \"sum\",\n",
    "            \"GoldsteinScale\": \"mean\",\n",
    "            \"EventDescr\": lambda x: \"; \".join(x.dropna().astype(str).unique()),\n",
    "            \"EventRootDescr\": lambda x: \"; \".join(x.dropna().astype(str).unique()),\n",
    "        }\n",
    "    )\n",
    "    .reset_index()\n",
    ")\n",
    "\n",
    "# Clean and prepare Mass Mobilization\n",
    "mm_clean = mm_df[\n",
    "    [\n",
    "        \"country\",\n",
    "        \"year\",\n",
    "        \"protest\",\n",
    "        \"participants_category\",\n",
    "        \"protesterdemand1\",\n",
    "        \"stateresponse1\",\n",
    "    ]\n",
    "].dropna(subset=[\"country\", \"year\", \"protest\", \"participants_category\"])\n",
    "\n",
    "mm_clean[\"country\"] = mm_clean[\"country\"].str.strip().str.lower()\n",
    "mm_clean[\"year\"] = mm_clean[\"year\"].astype(int)\n",
    "mm_clean = mm_clean.drop_duplicates()\n",
    "\n",
    "# Group MM data by country and year\n",
    "mm_grouped = (\n",
    "    mm_clean.groupby([\"country\", \"year\"])\n",
    "    .agg(\n",
    "        {\n",
    "            \"protest\": \"sum\",\n",
    "            \"participants_category\": lambda x: x.value_counts().idxmax(),\n",
    "            \"protesterdemand1\": lambda x: \"; \".join(x.dropna().astype(str).unique()),\n",
    "            \"stateresponse1\": lambda x: \"; \".join(x.dropna().astype(str).unique()),\n",
    "        }\n",
    "    )\n",
    "    .reset_index()\n",
    ")\n",
    "\n",
    "# Merge both datasets\n",
    "merged_df = pd.merge(gdelt_grouped, mm_grouped, on=[\"country\", \"year\"], how=\"inner\")\n",
    "\n",
    "# Export to CSV\n",
    "merged_df.to_csv(\"../merged_df_with_descriptions.csv\", index=False)\n",
    "\n",
    "print(\"✅ Done! Cleaned and enriched dataset saved as merged_df_with_descriptions.csv\")\n"
   ]
  }
 ],
 "metadata": {
  "kernelspec": {
   "display_name": "base",
   "language": "python",
   "name": "python3"
  },
  "language_info": {
   "codemirror_mode": {
    "name": "ipython",
    "version": 3
   },
   "file_extension": ".py",
   "mimetype": "text/x-python",
   "name": "python",
   "nbconvert_exporter": "python",
   "pygments_lexer": "ipython3",
   "version": "3.12.7"
  }
 },
 "nbformat": 4,
 "nbformat_minor": 5
}
